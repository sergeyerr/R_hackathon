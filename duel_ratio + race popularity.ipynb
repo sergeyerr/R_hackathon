{
 "cells": [
  {
   "cell_type": "code",
   "execution_count": 1,
   "metadata": {},
   "outputs": [],
   "source": [
    "import pandas as pd\n",
    "\n",
    "def load_some_data(path, separ = ','):\n",
    "    return pd.read_csv(path, sep=separ, parse_dates = ['datetime'], index_col='datetime')\n",
    "\n",
    "events_battle = load_some_data(r'data/events_battle.txt')\n",
    "events_hero = load_some_data(r'data/events_hero.txt')\n",
    "events_level = load_some_data(r'data/events_level.txt', '\\t')\n",
    "events_payment = pd.read_csv(r'data/events_payment.txt', parse_dates = ['created'], index_col='created')\n",
    "events_quest = load_some_data(r'data/events_quest.txt')\n",
    "events_resource = load_some_data(r'data/events_resource.txt')\n",
    "events_user = load_some_data(r'data/events_user.txt')"
   ]
  },
  {
   "cell_type": "code",
   "execution_count": 46,
   "metadata": {},
   "outputs": [
    {
     "data": {
      "text/plain": [
       "status    0.026964\n",
       "dtype: float64"
      ]
     },
     "execution_count": 46,
     "metadata": {},
     "output_type": "execute_result"
    }
   ],
   "source": [
    "#отношение дуэлей ко всем\n",
    "all_res = events_battle.copy()[['user_id', 'status']].groupby('user_id').agg('count') #число битв каждого юзера\n",
    "duel = events_battle.loc[events_battle['kind']=='duel'][['user_id', 'status']].groupby('user_id').agg('count')\n",
    "result = (duel / all_res).loc[(duel / all_res)[\"status\"].isnull() == False]\n",
    "avg = result.mean()\n",
    "avg"
   ]
  },
  {
   "cell_type": "code",
   "execution_count": 49,
   "metadata": {},
   "outputs": [
    {
     "data": {
      "text/html": [
       "<div>\n",
       "<style scoped>\n",
       "    .dataframe tbody tr th:only-of-type {\n",
       "        vertical-align: middle;\n",
       "    }\n",
       "\n",
       "    .dataframe tbody tr th {\n",
       "        vertical-align: top;\n",
       "    }\n",
       "\n",
       "    .dataframe thead th {\n",
       "        text-align: right;\n",
       "    }\n",
       "</style>\n",
       "<table border=\"1\" class=\"dataframe\">\n",
       "  <thead>\n",
       "    <tr style=\"text-align: right;\">\n",
       "      <th></th>\n",
       "      <th>user_id</th>\n",
       "    </tr>\n",
       "    <tr>\n",
       "      <th>race</th>\n",
       "      <th></th>\n",
       "    </tr>\n",
       "  </thead>\n",
       "  <tbody>\n",
       "    <tr>\n",
       "      <th>elf</th>\n",
       "      <td>1626</td>\n",
       "    </tr>\n",
       "    <tr>\n",
       "      <th>human</th>\n",
       "      <td>1472</td>\n",
       "    </tr>\n",
       "    <tr>\n",
       "      <th>orc</th>\n",
       "      <td>1221</td>\n",
       "    </tr>\n",
       "    <tr>\n",
       "      <th>super-hero</th>\n",
       "      <td>6075</td>\n",
       "    </tr>\n",
       "  </tbody>\n",
       "</table>\n",
       "</div>"
      ],
      "text/plain": [
       "            user_id\n",
       "race               \n",
       "elf            1626\n",
       "human          1472\n",
       "orc            1221\n",
       "super-hero     6075"
      ]
     },
     "execution_count": 49,
     "metadata": {},
     "output_type": "execute_result"
    }
   ],
   "source": [
    "#самая популярная раса\n",
    "#если что, то superhero - раса по умолчанию\n",
    "events_hero.copy()[[\"user_id\", \"race\"]].groupby(\"race\").agg('count')"
   ]
  },
  {
   "cell_type": "code",
   "execution_count": null,
   "metadata": {},
   "outputs": [],
   "source": [
    "#раса с наибольшим \n",
    "first = events_battle[['user_id',\"hero_id\", 'status', 'opponent_type', 'bot_template_id', 'opponent_race_id', 'kind']]\n",
    "second = first.copy()\n",
    "res = pd.merge(first, second, how='inner', left_index=True, right_index=True)\n",
    "res\n",
    "res = res.loc[res[\"user_id_x\"] != res[\"user_id_y\"]]\n",
    "res = res.loc[res[\"status_x\"]!=res[\"status_y\"]]\n",
    "res"
   ]
  }
 ],
 "metadata": {
  "kernelspec": {
   "display_name": "Python 3",
   "language": "python",
   "name": "python3"
  },
  "language_info": {
   "codemirror_mode": {
    "name": "ipython",
    "version": 3
   },
   "file_extension": ".py",
   "mimetype": "text/x-python",
   "name": "python",
   "nbconvert_exporter": "python",
   "pygments_lexer": "ipython3",
   "version": "3.7.3"
  }
 },
 "nbformat": 4,
 "nbformat_minor": 2
}
