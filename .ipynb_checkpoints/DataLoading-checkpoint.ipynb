{
 "cells": [
  {
   "cell_type": "code",
   "execution_count": 1,
   "metadata": {},
   "outputs": [],
   "source": [
    "import pandas as pd\n",
    "def LoadAllData(path):\n",
    "    events_battle = pd.read_csv(path + 'events_battle.txt',sep=\",\")\n",
    "    events_hero = pd.read_csv(path + 'events_hero.txt',sep=\",\")\n",
    "    events_level = pd.read_csv(path + 'events_level.txt',sep=\",\")\n",
    "    events_payment = pd.read_csv(path + 'events_payment.txt',sep=\",\")\n",
    "    events_quest = pd.read_csv(path + 'events_quest.txt',sep=\",\")\n",
    "    events_resource = pd.read_csv(path + 'events_resource.txt',sep=\",\")\n",
    "    events_user = pd.read_csv(path + 'events_user.txt',sep=\",\")\n",
    "    return events_battle, events_hero, events_level, events_payment, events_quest, events_resource, events_user"
   ]
  },
  {
   "cell_type": "code",
   "execution_count": null,
   "metadata": {},
   "outputs": [],
   "source": [
    "events_battle, events_hero, events_level, events_payment, events_quest, events_resource, events_user = LoadAllData(r'data\\')"
   ]
  }
 ],
 "metadata": {
  "kernelspec": {
   "display_name": "Python 3",
   "language": "python",
   "name": "python3"
  },
  "language_info": {
   "codemirror_mode": {
    "name": "ipython",
    "version": 3
   },
   "file_extension": ".py",
   "mimetype": "text/x-python",
   "name": "python",
   "nbconvert_exporter": "python",
   "pygments_lexer": "ipython3",
   "version": "3.7.3"
  }
 },
 "nbformat": 4,
 "nbformat_minor": 2
}
