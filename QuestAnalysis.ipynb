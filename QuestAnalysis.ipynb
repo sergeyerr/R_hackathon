{
 "cells": [
  {
   "cell_type": "code",
   "execution_count": 4,
   "metadata": {},
   "outputs": [],
   "source": [
    "import pandas as pd\n",
    "\n",
    "def load_some_data(path, separ = ','):\n",
    "    return pd.read_csv(path, sep=separ, parse_dates = ['datetime'], index_col='datetime')\n",
    "\n",
    "events_battle = load_some_data(r'data/events_battle.txt')\n",
    "events_hero = load_some_data(r'data/events_hero.txt')\n",
    "events_level = load_some_data(r'data/events_level.txt', '\\t')\n",
    "events_payment = pd.read_csv(r'data/events_payment.txt', parse_dates = ['created'], index_col='created')\n",
    "events_quest = load_some_data(r'data/events_quest.txt')\n",
    "events_resource = load_some_data(r'data/events_resource.txt')\n",
    "events_user = load_some_data(r'data/events_user.txt')"
   ]
  },
  {
   "cell_type": "code",
   "execution_count": 140,
   "metadata": {},
   "outputs": [
    {
     "data": {
      "text/plain": [
       "user_id\n",
       "00040422-b869-4272-ba05-1cc9481037c9      3.000000\n",
       "001a3472-44bc-4583-95d9-bf8759085017     28.666667\n",
       "002bcd7d-83b1-42ac-b257-ed71a4585f5e     41.666667\n",
       "0030c0b3-9683-41c0-bcac-b2aad03759f4     11.333333\n",
       "003c3099-4382-4f86-a989-a847628894f0      4.000000\n",
       "00467ba2-b71c-4a69-b8bc-d7491cf2eca0      1.500000\n",
       "0047e219-202a-4eda-8d31-b35a58f50eec     48.000000\n",
       "0049abe6-cc01-4c40-add7-ea480abcb0c4      3.000000\n",
       "0049d114-1c4f-4d9e-afce-bf2bc533eb80      4.000000\n",
       "0050299f-36f8-4d38-87c6-bf4e2d305b28      3.000000\n",
       "005edcb0-0a6a-4051-98c8-36363a59925d     10.500000\n",
       "00695cdd-d981-4e2c-ad82-f86059a0013d     29.000000\n",
       "0092330c-80c2-47f2-b5a3-5e9795a06a1a      1.000000\n",
       "00a21109-ed6d-4be2-8e20-b79158da28b8     16.000000\n",
       "00c7d924-83f5-4679-9d96-35356af1f53d    140.777778\n",
       "00d82951-3a32-4203-9f3e-352a4754ca75     17.000000\n",
       "00dd3007-71cf-42de-9c46-680988d89242     18.333333\n",
       "00e11541-ad30-4fd5-8894-f9ff37caf19e      2.666667\n",
       "01081951-a570-4d81-aa8d-a94dc5058fd6      3.000000\n",
       "010a6e53-245a-47a3-8e44-c8212c101399     21.250000\n",
       "01120989-37d2-474d-9659-e9f720aff474      3.000000\n",
       "01170464-685c-460d-bb22-be953bb1597a      4.000000\n",
       "01193866-de36-4b18-9303-e6d8872d8f1c      3.000000\n",
       "011e158a-8814-465a-af71-6fb8ded999c3      1.000000\n",
       "0124930f-142b-4135-95b7-1085e44dcc63     20.894737\n",
       "013a9402-6935-4c62-8da7-6463f8a03877     37.285714\n",
       "01426a80-0ccb-4c2f-b3a5-1db1ab2343a8     21.500000\n",
       "016393b9-b2fd-4a7f-80f7-d88bc043f9a1     25.000000\n",
       "0168b18c-0f20-4d2b-893a-e9e67e05907d      2.000000\n",
       "01695f98-e6e2-436b-915a-d1ebe232af40     23.000000\n",
       "                                           ...    \n",
       "fe5468ed-8312-41ce-9d69-79836c30e430      1.000000\n",
       "fe5a22c3-5835-4c95-9170-ffd89b10c341      4.000000\n",
       "fe706f4a-1190-4fc4-9311-ee3f1a56d87c      2.000000\n",
       "fe716875-d7fa-423a-8779-9203e3e361c0      3.000000\n",
       "fe759020-cbc6-42bc-95f8-c1788fe9e008      4.000000\n",
       "fe81520f-b033-43fa-9d66-0b0faa295741      1.000000\n",
       "fe87cd52-8478-4cc4-a153-8195e1148278      9.000000\n",
       "fe9b18bb-ba7d-4faa-82fd-cb5fe9ccc721      3.000000\n",
       "fe9ccc92-0c72-4dfd-b0a0-178630e9daa9     20.000000\n",
       "fea3b8bd-3560-42b9-9bd9-75510a29daf6      5.000000\n",
       "feab3366-acc0-412d-bbbf-6467f7a87085      1.000000\n",
       "fead28a2-b07f-4ce0-8169-3890a9cffe08      1.000000\n",
       "feb0e4a0-94b8-4f69-a2a3-8bb392de0098     35.000000\n",
       "feb2503d-0f2b-4079-beb7-d85e24e5d392     21.500000\n",
       "fec71801-bf44-43e7-8f73-2c769a8be36d      2.000000\n",
       "fec8a677-3ead-4cc0-a51d-1e2f5e3f2b48      1.000000\n",
       "fedd3935-5591-4f71-9126-c79a6e6ddbb5     21.000000\n",
       "fee9ef63-e8ac-4e9f-a80f-bcb52003a705     29.000000\n",
       "feed736e-8791-4584-aa68-5f262c304cfa      3.500000\n",
       "fef24a0c-9238-44fc-af3a-61d981ceb18b     14.000000\n",
       "ff15d08e-3ea3-4aee-a018-c44300b926b5      1.000000\n",
       "ff375923-e7b6-4946-918a-4dad755b04bc      2.000000\n",
       "ff558b17-c424-4a8d-8fe8-b1445ec636f2     91.000000\n",
       "ff96a1f0-6ccd-41e1-bc02-7dfefa3dcafc      6.000000\n",
       "ffadaea5-a4b1-47f0-9aa4-2852b6c1ba60      1.000000\n",
       "ffaf8490-619b-4465-818a-80dddbc9ece3     35.000000\n",
       "ffb2261c-9800-4e44-abbc-4f2baed7daa8     59.000000\n",
       "ffb9d044-ea4d-48b7-b616-6be508c6c9e7      1.000000\n",
       "ffd99915-b6c6-420c-9b61-3f844d7757ca      3.000000\n",
       "ffef1362-31ef-48c2-99dd-4a26fbeeaafe     14.666667\n",
       "Name: quest average, Length: 5293, dtype: float64"
      ]
     },
     "execution_count": 140,
     "metadata": {},
     "output_type": "execute_result"
    }
   ],
   "source": [
    "# Среднее дневное количество квестов для каждого пользоваетеля\n",
    "def get_quest_mean_per_day():\n",
    "    quest_count = events_battle[['user_id','id']].groupby(['user_id', events_battle.index.date]).agg('count')\n",
    "    quest_mean = quest_count.groupby('user_id').agg('mean')\n",
    "    quest_mean = quest_mean['id']\n",
    "    quest_mean = quest_mean.rename('quest average')\n",
    "\n",
    "    return quest_mean\n",
    "\n",
    "get_quest_mean_per_day()"
   ]
  },
  {
   "cell_type": "code",
   "execution_count": 155,
   "metadata": {},
   "outputs": [
    {
     "data": {
      "text/plain": [
       "user_id\n",
       "00040422-b869-4272-ba05-1cc9481037c9       3\n",
       "001a3472-44bc-4583-95d9-bf8759085017      86\n",
       "002bcd7d-83b1-42ac-b257-ed71a4585f5e     125\n",
       "0030c0b3-9683-41c0-bcac-b2aad03759f4      34\n",
       "003c3099-4382-4f86-a989-a847628894f0       8\n",
       "00467ba2-b71c-4a69-b8bc-d7491cf2eca0       3\n",
       "0047e219-202a-4eda-8d31-b35a58f50eec      96\n",
       "0049abe6-cc01-4c40-add7-ea480abcb0c4       3\n",
       "0049d114-1c4f-4d9e-afce-bf2bc533eb80       4\n",
       "0050299f-36f8-4d38-87c6-bf4e2d305b28       3\n",
       "005edcb0-0a6a-4051-98c8-36363a59925d      42\n",
       "00695cdd-d981-4e2c-ad82-f86059a0013d      29\n",
       "0092330c-80c2-47f2-b5a3-5e9795a06a1a       1\n",
       "00a21109-ed6d-4be2-8e20-b79158da28b8      80\n",
       "00c7d924-83f5-4679-9d96-35356af1f53d    1267\n",
       "00d82951-3a32-4203-9f3e-352a4754ca75      17\n",
       "00dd3007-71cf-42de-9c46-680988d89242      55\n",
       "00e11541-ad30-4fd5-8894-f9ff37caf19e       8\n",
       "01081951-a570-4d81-aa8d-a94dc5058fd6       3\n",
       "010a6e53-245a-47a3-8e44-c8212c101399      85\n",
       "01120989-37d2-474d-9659-e9f720aff474       3\n",
       "01170464-685c-460d-bb22-be953bb1597a       4\n",
       "01193866-de36-4b18-9303-e6d8872d8f1c       3\n",
       "011e158a-8814-465a-af71-6fb8ded999c3       2\n",
       "0124930f-142b-4135-95b7-1085e44dcc63     397\n",
       "013a9402-6935-4c62-8da7-6463f8a03877     261\n",
       "01426a80-0ccb-4c2f-b3a5-1db1ab2343a8      43\n",
       "016393b9-b2fd-4a7f-80f7-d88bc043f9a1      25\n",
       "0168b18c-0f20-4d2b-893a-e9e67e05907d       2\n",
       "01695f98-e6e2-436b-915a-d1ebe232af40      23\n",
       "                                        ... \n",
       "fe5468ed-8312-41ce-9d69-79836c30e430       1\n",
       "fe5a22c3-5835-4c95-9170-ffd89b10c341       4\n",
       "fe706f4a-1190-4fc4-9311-ee3f1a56d87c       2\n",
       "fe716875-d7fa-423a-8779-9203e3e361c0       3\n",
       "fe759020-cbc6-42bc-95f8-c1788fe9e008       4\n",
       "fe81520f-b033-43fa-9d66-0b0faa295741       1\n",
       "fe87cd52-8478-4cc4-a153-8195e1148278      27\n",
       "fe9b18bb-ba7d-4faa-82fd-cb5fe9ccc721       3\n",
       "fe9ccc92-0c72-4dfd-b0a0-178630e9daa9      20\n",
       "fea3b8bd-3560-42b9-9bd9-75510a29daf6       5\n",
       "feab3366-acc0-412d-bbbf-6467f7a87085       1\n",
       "fead28a2-b07f-4ce0-8169-3890a9cffe08       1\n",
       "feb0e4a0-94b8-4f69-a2a3-8bb392de0098      35\n",
       "feb2503d-0f2b-4079-beb7-d85e24e5d392     129\n",
       "fec71801-bf44-43e7-8f73-2c769a8be36d       2\n",
       "fec8a677-3ead-4cc0-a51d-1e2f5e3f2b48       1\n",
       "fedd3935-5591-4f71-9126-c79a6e6ddbb5      21\n",
       "fee9ef63-e8ac-4e9f-a80f-bcb52003a705      29\n",
       "feed736e-8791-4584-aa68-5f262c304cfa       7\n",
       "fef24a0c-9238-44fc-af3a-61d981ceb18b     112\n",
       "ff15d08e-3ea3-4aee-a018-c44300b926b5       2\n",
       "ff375923-e7b6-4946-918a-4dad755b04bc       2\n",
       "ff558b17-c424-4a8d-8fe8-b1445ec636f2     364\n",
       "ff96a1f0-6ccd-41e1-bc02-7dfefa3dcafc       6\n",
       "ffadaea5-a4b1-47f0-9aa4-2852b6c1ba60       1\n",
       "ffaf8490-619b-4465-818a-80dddbc9ece3      35\n",
       "ffb2261c-9800-4e44-abbc-4f2baed7daa8      59\n",
       "ffb9d044-ea4d-48b7-b616-6be508c6c9e7       1\n",
       "ffd99915-b6c6-420c-9b61-3f844d7757ca       3\n",
       "ffef1362-31ef-48c2-99dd-4a26fbeeaafe      44\n",
       "Name: completed quests, Length: 5293, dtype: int64"
      ]
     },
     "execution_count": 155,
     "metadata": {},
     "output_type": "execute_result"
    }
   ],
   "source": [
    "# Общее количество выполненных квестов для каждого пользователя\n",
    "def get_quest_count():\n",
    "    quest_count = events_battle[['user_id','id']].groupby('user_id').agg('count')\n",
    "    quest_count = quest_count['id'].rename('completed quests')\n",
    "    return quest_count\n",
    "\n",
    "get_quest_count()"
   ]
  },
  {
   "cell_type": "code",
   "execution_count": 119,
   "metadata": {},
   "outputs": [
    {
     "data": {
      "text/plain": [
       "race\n",
       "elf           36614\n",
       "human         39901\n",
       "orc           28958\n",
       "super-hero    16700\n",
       "Name: completed quests, dtype: int64"
      ]
     },
     "execution_count": 119,
     "metadata": {},
     "output_type": "execute_result"
    }
   ],
   "source": [
    "# Распределение выполненных квестов по расам\n",
    "def get_quest_distribution_by_race():    \n",
    "    hero_slice = events_hero[['hero_id', 'race']]\n",
    "    quests_slice = events_quest[['hero_id']]\n",
    "    quest_counts_frame = pd.merge(hero_slice, quests_slice).groupby('race').agg('count')\n",
    "    quest_counts_series = quest_counts_frame['hero_id'].rename('completed quests')\n",
    "    return quest_counts_series\n",
    "    \n",
    "get_quest_distribution_by_race()"
   ]
  },
  {
   "cell_type": "code",
   "execution_count": 150,
   "metadata": {},
   "outputs": [
    {
     "data": {
      "text/plain": [
       "race\n",
       "elf            938\n",
       "human         1023\n",
       "orc            742\n",
       "super-hero     428\n",
       "Name: quest average, dtype: int64"
      ]
     },
     "execution_count": 150,
     "metadata": {},
     "output_type": "execute_result"
    }
   ],
   "source": [
    "# Среднее количество квестов для каждой расы в день\n",
    "def get_quests_mean_per_race():\n",
    "    hero_slice = events_hero[['hero_id', 'race']]\n",
    "    quests_slice = events_quest[['hero_id']]\n",
    "    quest_mean_frame = quests_slice.reset_index().merge(hero_slice).set_index('datetime')\n",
    "    quest_mean_frame = quest_mean_frame.groupby(['race', quest_mean_frame.index.date]).agg('count')\n",
    "    quest_mean_frame = quest_mean_frame.groupby('race').agg('mean')\n",
    "    quest_mean_series = quest_mean_frame['hero_id'].rename('quest average').astype('int64')\n",
    "    return quest_mean_series\n",
    "\n",
    "get_quests_mean_per_race()"
   ]
  },
  {
   "cell_type": "code",
   "execution_count": 156,
   "metadata": {},
   "outputs": [
    {
     "name": "stdout",
     "output_type": "stream",
     "text": [
      "                                      quest average  completed quests\n",
      "user_id                                                              \n",
      "00040422-b869-4272-ba05-1cc9481037c9       3.000000                 3\n",
      "001a3472-44bc-4583-95d9-bf8759085017      28.666667                86\n",
      "002bcd7d-83b1-42ac-b257-ed71a4585f5e      41.666667               125\n",
      "\n",
      "       completed quests  quest average\n",
      "race                                  \n",
      "elf               36614            938\n",
      "human             39901           1023\n",
      "orc               28958            742\n"
     ]
    }
   ],
   "source": [
    "def get_quest_aggregate_user_table():\n",
    "    values = [\n",
    "        get_quest_mean_per_day(),\n",
    "        get_quest_count()\n",
    "    ]\n",
    "    return pd.concat(values, axis=1)\n",
    "    \n",
    "def get_quest_aggregate_race_table():\n",
    "    values = [\n",
    "        get_quest_distribution_by_race(),\n",
    "        get_quests_mean_per_race()\n",
    "    ]\n",
    "    return pd.concat(values, axis=1)\n",
    "    \n",
    "print(f'{get_quest_aggregate_user_table().head(3)}\\n')\n",
    "print(get_quest_aggregate_race_table().head(3))"
   ]
  },
  {
   "cell_type": "code",
   "execution_count": 1,
   "metadata": {},
   "outputs": [
    {
     "ename": "NameError",
     "evalue": "name 'events_hero' is not defined",
     "output_type": "error",
     "traceback": [
      "\u001b[1;31m---------------------------------------------------------------------------\u001b[0m",
      "\u001b[1;31mNameError\u001b[0m                                 Traceback (most recent call last)",
      "\u001b[1;32m<ipython-input-1-32cab2acb072>\u001b[0m in \u001b[0;36m<module>\u001b[1;34m\u001b[0m\n\u001b[1;32m----> 1\u001b[1;33m \u001b[0mhero_ids\u001b[0m \u001b[1;33m=\u001b[0m \u001b[0mevents_hero\u001b[0m\u001b[1;33m[\u001b[0m\u001b[1;33m[\u001b[0m\u001b[1;34m'hero_id'\u001b[0m\u001b[1;33m]\u001b[0m\u001b[1;33m]\u001b[0m\u001b[1;33m\u001b[0m\u001b[1;33m\u001b[0m\u001b[0m\n\u001b[0m\u001b[0;32m      2\u001b[0m \u001b[0mresult\u001b[0m \u001b[1;33m=\u001b[0m \u001b[0mpd\u001b[0m\u001b[1;33m.\u001b[0m\u001b[0mmerge\u001b[0m\u001b[1;33m(\u001b[0m\u001b[0mevents_battle\u001b[0m\u001b[1;33m,\u001b[0m \u001b[0mhero_ids\u001b[0m\u001b[1;33m,\u001b[0m \u001b[0mon\u001b[0m \u001b[1;33m=\u001b[0m \u001b[1;34m'hero_id'\u001b[0m\u001b[1;33m)\u001b[0m\u001b[1;33m\u001b[0m\u001b[1;33m\u001b[0m\u001b[0m\n\u001b[0;32m      3\u001b[0m \u001b[0mresult\u001b[0m\u001b[1;33m.\u001b[0m\u001b[0mhead\u001b[0m\u001b[1;33m(\u001b[0m\u001b[1;36m2\u001b[0m\u001b[1;33m)\u001b[0m\u001b[1;33m\u001b[0m\u001b[1;33m\u001b[0m\u001b[0m\n",
      "\u001b[1;31mNameError\u001b[0m: name 'events_hero' is not defined"
     ]
    }
   ],
   "source": [
    "hero_ids = events_hero[['hero_id']]\n",
    "result = pd.merge(events_battle, hero_ids, on = 'hero_id')\n",
    "result.head(2)"
   ]
  },
  {
   "cell_type": "code",
   "execution_count": 3,
   "metadata": {},
   "outputs": [
    {
     "ename": "NameError",
     "evalue": "name 'events_battle' is not defined",
     "output_type": "error",
     "traceback": [
      "\u001b[1;31m---------------------------------------------------------------------------\u001b[0m",
      "\u001b[1;31mNameError\u001b[0m                                 Traceback (most recent call last)",
      "\u001b[1;32m<ipython-input-3-dd28726bfabb>\u001b[0m in \u001b[0;36m<module>\u001b[1;34m\u001b[0m\n\u001b[0;32m     17\u001b[0m     \u001b[1;32mreturn\u001b[0m \u001b[0mlast_dates\u001b[0m\u001b[1;33m\u001b[0m\u001b[1;33m\u001b[0m\u001b[0m\n\u001b[0;32m     18\u001b[0m \u001b[1;33m\u001b[0m\u001b[0m\n\u001b[1;32m---> 19\u001b[1;33m \u001b[0mget_labels\u001b[0m\u001b[1;33m(\u001b[0m\u001b[1;33m)\u001b[0m\u001b[1;33m\u001b[0m\u001b[1;33m\u001b[0m\u001b[0m\n\u001b[0m",
      "\u001b[1;32m<ipython-input-3-dd28726bfabb>\u001b[0m in \u001b[0;36mget_labels\u001b[1;34m()\u001b[0m\n\u001b[0;32m      1\u001b[0m \u001b[1;32mdef\u001b[0m \u001b[0mget_labels\u001b[0m\u001b[1;33m(\u001b[0m\u001b[1;33m)\u001b[0m\u001b[1;33m:\u001b[0m\u001b[1;33m\u001b[0m\u001b[1;33m\u001b[0m\u001b[0m\n\u001b[0;32m      2\u001b[0m     \u001b[0mused_cols\u001b[0m \u001b[1;33m=\u001b[0m \u001b[1;33m[\u001b[0m\u001b[1;34m'user_id'\u001b[0m\u001b[1;33m]\u001b[0m\u001b[1;33m\u001b[0m\u001b[1;33m\u001b[0m\u001b[0m\n\u001b[1;32m----> 3\u001b[1;33m     \u001b[0mall_dates\u001b[0m \u001b[1;33m=\u001b[0m \u001b[0mevents_battle\u001b[0m\u001b[1;33m[\u001b[0m\u001b[0mused_cols\u001b[0m\u001b[1;33m]\u001b[0m\u001b[1;33m\u001b[0m\u001b[1;33m\u001b[0m\u001b[0m\n\u001b[0m\u001b[0;32m      4\u001b[0m     \u001b[0mall_dates\u001b[0m \u001b[1;33m=\u001b[0m \u001b[0mall_dates\u001b[0m\u001b[1;33m.\u001b[0m\u001b[0mappend\u001b[0m\u001b[1;33m(\u001b[0m\u001b[0mevents_resource\u001b[0m\u001b[1;33m[\u001b[0m\u001b[0mused_cols\u001b[0m\u001b[1;33m]\u001b[0m\u001b[1;33m)\u001b[0m\u001b[1;33m\u001b[0m\u001b[1;33m\u001b[0m\u001b[0m\n\u001b[0;32m      5\u001b[0m     \u001b[0mall_dates\u001b[0m \u001b[1;33m=\u001b[0m \u001b[0mall_dates\u001b[0m\u001b[1;33m.\u001b[0m\u001b[0mappend\u001b[0m\u001b[1;33m(\u001b[0m\u001b[0mevents_quest\u001b[0m\u001b[1;33m[\u001b[0m\u001b[0mused_cols\u001b[0m\u001b[1;33m]\u001b[0m\u001b[1;33m)\u001b[0m\u001b[1;33m\u001b[0m\u001b[1;33m\u001b[0m\u001b[0m\n",
      "\u001b[1;31mNameError\u001b[0m: name 'events_battle' is not defined"
     ]
    }
   ],
   "source": [
    "def get_labels():\n",
    "    used_cols = ['user_id']\n",
    "    all_dates = events_battle[used_cols]\n",
    "    all_dates = all_dates.append(events_resource[used_cols])\n",
    "    all_dates = all_dates.append(events_quest[used_cols])\n",
    "    all_dates = all_dates.append(events_payment[used_cols])\n",
    "    last_dates = all_dates.reset_index().set_index(['user_id']).groupby(['user_id']).agg('max')\n",
    "    last_dates.rename(index=str, columns={\"index\": \"datetime\"}, inplace = True)\n",
    "    def is_leaved(date):\n",
    "        current_date = pd.Timestamp(2018, 11, 8, 12)\n",
    "        if (current_date - date).days > 3:\n",
    "            return 1\n",
    "        else:\n",
    "            return 0\n",
    "    last_dates['leaved'] = last_dates.apply(lambda dat : is_leaved(dat['datetime']),axis = 1)\n",
    "    last_dates=last_dates[['leaved']]\n",
    "    return last_dates\n",
    "\n",
    "get_labels()"
   ]
  }
 ],
 "metadata": {
  "kernelspec": {
   "display_name": "Python 3",
   "language": "python",
   "name": "python3"
  },
  "language_info": {
   "codemirror_mode": {
    "name": "ipython",
    "version": 3
   },
   "file_extension": ".py",
   "mimetype": "text/x-python",
   "name": "python",
   "nbconvert_exporter": "python",
   "pygments_lexer": "ipython3",
   "version": "3.7.3"
  }
 },
 "nbformat": 4,
 "nbformat_minor": 2
}
